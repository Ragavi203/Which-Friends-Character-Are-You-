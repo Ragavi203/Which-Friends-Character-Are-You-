{
  "nbformat": 4,
  "nbformat_minor": 0,
  "metadata": {
    "colab": {
      "provenance": [],
      "authorship_tag": "ABX9TyMYxBEXZ5XA7cExcZ/5hcc7",
      "include_colab_link": true
    },
    "kernelspec": {
      "name": "python3",
      "display_name": "Python 3"
    },
    "language_info": {
      "name": "python"
    }
  },
  "cells": [
    {
      "cell_type": "markdown",
      "metadata": {
        "id": "view-in-github",
        "colab_type": "text"
      },
      "source": [
        "<a href=\"https://colab.research.google.com/github/Ragavi203/Which-Friends-Character-Are-You-/blob/main/Which_friends_character_are_you%3F.ipynb\" target=\"_parent\"><img src=\"https://colab.research.google.com/assets/colab-badge.svg\" alt=\"Open In Colab\"/></a>"
      ]
    },
    {
      "cell_type": "code",
      "source": [
        "!pip install streamlit pyngrok\n"
      ],
      "metadata": {
        "colab": {
          "base_uri": "https://localhost:8080/"
        },
        "id": "9ARU3NLlaycC",
        "outputId": "8568ff18-956c-4395-8cb4-b9205b1cd3c3"
      },
      "execution_count": 1,
      "outputs": [
        {
          "output_type": "stream",
          "name": "stdout",
          "text": [
            "Requirement already satisfied: streamlit in /usr/local/lib/python3.11/dist-packages (1.41.1)\n",
            "Requirement already satisfied: pyngrok in /usr/local/lib/python3.11/dist-packages (7.2.3)\n",
            "Requirement already satisfied: altair<6,>=4.0 in /usr/local/lib/python3.11/dist-packages (from streamlit) (5.5.0)\n",
            "Requirement already satisfied: blinker<2,>=1.0.0 in /usr/local/lib/python3.11/dist-packages (from streamlit) (1.9.0)\n",
            "Requirement already satisfied: cachetools<6,>=4.0 in /usr/local/lib/python3.11/dist-packages (from streamlit) (5.5.0)\n",
            "Requirement already satisfied: click<9,>=7.0 in /usr/local/lib/python3.11/dist-packages (from streamlit) (8.1.8)\n",
            "Requirement already satisfied: numpy<3,>=1.23 in /usr/local/lib/python3.11/dist-packages (from streamlit) (1.26.4)\n",
            "Requirement already satisfied: packaging<25,>=20 in /usr/local/lib/python3.11/dist-packages (from streamlit) (24.2)\n",
            "Requirement already satisfied: pandas<3,>=1.4.0 in /usr/local/lib/python3.11/dist-packages (from streamlit) (2.2.2)\n",
            "Requirement already satisfied: pillow<12,>=7.1.0 in /usr/local/lib/python3.11/dist-packages (from streamlit) (11.1.0)\n",
            "Requirement already satisfied: protobuf<6,>=3.20 in /usr/local/lib/python3.11/dist-packages (from streamlit) (4.25.5)\n",
            "Requirement already satisfied: pyarrow>=7.0 in /usr/local/lib/python3.11/dist-packages (from streamlit) (17.0.0)\n",
            "Requirement already satisfied: requests<3,>=2.27 in /usr/local/lib/python3.11/dist-packages (from streamlit) (2.32.3)\n",
            "Requirement already satisfied: rich<14,>=10.14.0 in /usr/local/lib/python3.11/dist-packages (from streamlit) (13.9.4)\n",
            "Requirement already satisfied: tenacity<10,>=8.1.0 in /usr/local/lib/python3.11/dist-packages (from streamlit) (9.0.0)\n",
            "Requirement already satisfied: toml<2,>=0.10.1 in /usr/local/lib/python3.11/dist-packages (from streamlit) (0.10.2)\n",
            "Requirement already satisfied: typing-extensions<5,>=4.3.0 in /usr/local/lib/python3.11/dist-packages (from streamlit) (4.12.2)\n",
            "Requirement already satisfied: watchdog<7,>=2.1.5 in /usr/local/lib/python3.11/dist-packages (from streamlit) (6.0.0)\n",
            "Requirement already satisfied: gitpython!=3.1.19,<4,>=3.0.7 in /usr/local/lib/python3.11/dist-packages (from streamlit) (3.1.44)\n",
            "Requirement already satisfied: pydeck<1,>=0.8.0b4 in /usr/local/lib/python3.11/dist-packages (from streamlit) (0.9.1)\n",
            "Requirement already satisfied: tornado<7,>=6.0.3 in /usr/local/lib/python3.11/dist-packages (from streamlit) (6.3.3)\n",
            "Requirement already satisfied: PyYAML>=5.1 in /usr/local/lib/python3.11/dist-packages (from pyngrok) (6.0.2)\n",
            "Requirement already satisfied: jinja2 in /usr/local/lib/python3.11/dist-packages (from altair<6,>=4.0->streamlit) (3.1.5)\n",
            "Requirement already satisfied: jsonschema>=3.0 in /usr/local/lib/python3.11/dist-packages (from altair<6,>=4.0->streamlit) (4.23.0)\n",
            "Requirement already satisfied: narwhals>=1.14.2 in /usr/local/lib/python3.11/dist-packages (from altair<6,>=4.0->streamlit) (1.21.1)\n",
            "Requirement already satisfied: gitdb<5,>=4.0.1 in /usr/local/lib/python3.11/dist-packages (from gitpython!=3.1.19,<4,>=3.0.7->streamlit) (4.0.12)\n",
            "Requirement already satisfied: python-dateutil>=2.8.2 in /usr/local/lib/python3.11/dist-packages (from pandas<3,>=1.4.0->streamlit) (2.8.2)\n",
            "Requirement already satisfied: pytz>=2020.1 in /usr/local/lib/python3.11/dist-packages (from pandas<3,>=1.4.0->streamlit) (2024.2)\n",
            "Requirement already satisfied: tzdata>=2022.7 in /usr/local/lib/python3.11/dist-packages (from pandas<3,>=1.4.0->streamlit) (2024.2)\n",
            "Requirement already satisfied: charset-normalizer<4,>=2 in /usr/local/lib/python3.11/dist-packages (from requests<3,>=2.27->streamlit) (3.4.1)\n",
            "Requirement already satisfied: idna<4,>=2.5 in /usr/local/lib/python3.11/dist-packages (from requests<3,>=2.27->streamlit) (3.10)\n",
            "Requirement already satisfied: urllib3<3,>=1.21.1 in /usr/local/lib/python3.11/dist-packages (from requests<3,>=2.27->streamlit) (2.3.0)\n",
            "Requirement already satisfied: certifi>=2017.4.17 in /usr/local/lib/python3.11/dist-packages (from requests<3,>=2.27->streamlit) (2024.12.14)\n",
            "Requirement already satisfied: markdown-it-py>=2.2.0 in /usr/local/lib/python3.11/dist-packages (from rich<14,>=10.14.0->streamlit) (3.0.0)\n",
            "Requirement already satisfied: pygments<3.0.0,>=2.13.0 in /usr/local/lib/python3.11/dist-packages (from rich<14,>=10.14.0->streamlit) (2.18.0)\n",
            "Requirement already satisfied: smmap<6,>=3.0.1 in /usr/local/lib/python3.11/dist-packages (from gitdb<5,>=4.0.1->gitpython!=3.1.19,<4,>=3.0.7->streamlit) (5.0.2)\n",
            "Requirement already satisfied: MarkupSafe>=2.0 in /usr/local/lib/python3.11/dist-packages (from jinja2->altair<6,>=4.0->streamlit) (3.0.2)\n",
            "Requirement already satisfied: attrs>=22.2.0 in /usr/local/lib/python3.11/dist-packages (from jsonschema>=3.0->altair<6,>=4.0->streamlit) (24.3.0)\n",
            "Requirement already satisfied: jsonschema-specifications>=2023.03.6 in /usr/local/lib/python3.11/dist-packages (from jsonschema>=3.0->altair<6,>=4.0->streamlit) (2024.10.1)\n",
            "Requirement already satisfied: referencing>=0.28.4 in /usr/local/lib/python3.11/dist-packages (from jsonschema>=3.0->altair<6,>=4.0->streamlit) (0.35.1)\n",
            "Requirement already satisfied: rpds-py>=0.7.1 in /usr/local/lib/python3.11/dist-packages (from jsonschema>=3.0->altair<6,>=4.0->streamlit) (0.22.3)\n",
            "Requirement already satisfied: mdurl~=0.1 in /usr/local/lib/python3.11/dist-packages (from markdown-it-py>=2.2.0->rich<14,>=10.14.0->streamlit) (0.1.2)\n",
            "Requirement already satisfied: six>=1.5 in /usr/local/lib/python3.11/dist-packages (from python-dateutil>=2.8.2->pandas<3,>=1.4.0->streamlit) (1.17.0)\n"
          ]
        }
      ]
    },
    {
      "cell_type": "code",
      "source": [
        "code = \"\"\"\n",
        "import streamlit as st\n",
        "\n",
        "# Character traits\n",
        "character_info = {\n",
        "    'Chandler': {'traits': ['😄 Sarcastic', '🧠 Witty', '😂 Funny'], 'color': '#3498DB'},\n",
        "    'Monica': {'traits': ['🏆 Competitive', '🧹 Perfectionist', '🤗 Caring'], 'color': '#E74C3C'},\n",
        "    'Joey': {'traits': ['😊 Friendly', '🐾 Loyal', '💘 Flirtatious'], 'color': '#2ECC71'},\n",
        "    'Ross': {'traits': ['📚 Intelligent', '🎭 Dramatic', '💑 Romantic'], 'color': '#9B59B6'},\n",
        "    'Rachel': {'traits': ['👗 Fashionable', '🎯 Ambitious', '🙋 Independent'], 'color': '#F1C40F'},\n",
        "    'Phoebe': {'traits': ['🎸 Quirky', '🌈 Honest', '🎨 Creative'], 'color': '#1ABC9C'}\n",
        "}\n",
        "\n",
        "# Quiz questions\n",
        "questions = [\n",
        "    (\"🎉 What would you do at a party?\",\n",
        "     [\"😄 Crack jokes and make everyone laugh\",\n",
        "      \"🧹 Organize everything and make sure everyone is comfortable\",\n",
        "      \"🍕 Flirt and enjoy the food\",\n",
        "      \"📚 Talk about your interests and have deep conversations\",\n",
        "      \"👗 Dress to impress and charm people\",\n",
        "      \"🎸 Be your quirky self and entertain people in unique ways\"]),\n",
        "    (\"😰 How do you handle stress?\",\n",
        "     [\"😂 Use humor to deflect\",\n",
        "      \"🧹 Organize and clean to feel in control\",\n",
        "      \"🍕 Distract yourself with food or friends\",\n",
        "      \"🧠 Overthink and analyze the situation\",\n",
        "      \"🛍️ Shop or pamper yourself\",\n",
        "      \"🌈 Meditate or do something creative\"]),\n",
        "    (\"🌟 What’s your idea of a perfect weekend?\",\n",
        "     [\"😄 Hanging out with friends and making them laugh\",\n",
        "      \"🏠 Hosting a dinner party\",\n",
        "      \"🍕 Relaxing with pizza and TV\",\n",
        "      \"📖 Visiting a museum or reading a book\",\n",
        "      \"🛍️ Shopping or spending time at a spa\",\n",
        "      \"🎨 Doing something unique like volunteering or crafting\"]),\n",
        "    (\"❤️ What do you value most in friendships?\",\n",
        "     [\"😂 A good sense of humor\",\n",
        "      \"🤗 Reliability and loyalty\",\n",
        "      \"😊 Fun and easygoing vibes\",\n",
        "      \"🧠 Deep conversations and support\",\n",
        "      \"🎯 Ambition and motivation\",\n",
        "      \"🌈 Honesty and uniqueness\"]),\n",
        "    (\"🛠️ How do you solve problems?\",\n",
        "     [\"😂 With humor and quick thinking\",\n",
        "      \"🧹 By creating a detailed plan\",\n",
        "      \"🍕 By taking things lightly and asking for help\",\n",
        "      \"🧠 By analyzing every detail\",\n",
        "      \"🎯 By tackling them head-on\",\n",
        "      \"🎨 By thinking outside the box\"]),\n",
        "    (\"🌈 How do you express yourself?\",\n",
        "     [\"😂 Through humor and jokes\",\n",
        "      \"🏆 Through achievements and organization\",\n",
        "      \"😊 Through kindness and affection\",\n",
        "      \"📚 Through intellectual discussions\",\n",
        "      \"👗 Through fashion and style\",\n",
        "      \"🎸 Through creativity and art\"]),\n",
        "]\n",
        "\n",
        "# Scoring\n",
        "scores = {char: 0 for char in character_info.keys()}\n",
        "\n",
        "# App layout\n",
        "st.title(\"🎭 Which Friends Character Are You?\")\n",
        "st.subheader(\"✨ Answer these 6 questions to find out! ✨\")\n",
        "st.markdown(\"---\")\n",
        "\n",
        "# Quiz logic\n",
        "for i, (question, options) in enumerate(questions):\n",
        "    st.write(f\"### Question {i+1}: {question}\")\n",
        "    answer = st.radio(\"\", options, key=f\"q{i+1}\")\n",
        "    if answer in options[0]:\n",
        "        scores['Chandler'] += 1\n",
        "    elif answer in options[1]:\n",
        "        scores['Monica'] += 1\n",
        "    elif answer in options[2]:\n",
        "        scores['Joey'] += 1\n",
        "    elif answer in options[3]:\n",
        "        scores['Ross'] += 1\n",
        "    elif answer in options[4]:\n",
        "        scores['Rachel'] += 1\n",
        "    elif answer in options[5]:\n",
        "        scores['Phoebe'] += 1\n",
        "\n",
        "# Results button\n",
        "if st.button(\"🚀 Get Results\"):\n",
        "    best_match = max(scores, key=scores.get)\n",
        "    st.markdown(f\"<h1 style='color:{character_info[best_match]['color']}'>🎉 You are most like {best_match}!</h1>\", unsafe_allow_html=True)\n",
        "\n",
        "    # Show traits\n",
        "    st.markdown(f\"<h3 style='color:{character_info[best_match]['color']}'>🌟 Key Traits:</h3>\", unsafe_allow_html=True)\n",
        "    st.write(\", \".join(character_info[best_match]['traits']))\n",
        "\n",
        "    # Show scores\n",
        "    st.markdown(\"### 📊 Your Scores:\")\n",
        "    for char, score in scores.items():\n",
        "        st.write(f\"{char}: {score}\")\n",
        "\"\"\"\n",
        "\n",
        "# Save the code to app.py\n",
        "with open(\"app.py\", \"w\") as f:\n",
        "    f.write(code)\n"
      ],
      "metadata": {
        "id": "K8VQeLGDecTZ"
      },
      "execution_count": 2,
      "outputs": []
    },
    {
      "cell_type": "code",
      "source": [
        "from pyngrok import ngrok\n",
        "\n",
        "# Authenticate ngrok (replace 'your_ngrok_auth_token' with your actual token)\n",
        "ngrok.set_auth_token('your_ngrok_auth_token')\n",
        "\n",
        "# Create a tunnel to the Streamlit app (running on port 8501)\n",
        "public_url = ngrok.connect(8501)\n",
        "print(f\"Streamlit app is running at: {public_url}\")\n"
      ],
      "metadata": {
        "colab": {
          "base_uri": "https://localhost:8080/"
        },
        "id": "XX7UL3O9ed2k",
        "outputId": "0598825e-e387-48ee-8ea1-ccdc03c1caf6"
      },
      "execution_count": 7,
      "outputs": [
        {
          "output_type": "stream",
          "name": "stdout",
          "text": [
            "Streamlit app is running at: NgrokTunnel: \"https://b645-34-75-198-31.ngrok-free.app\" -> \"http://localhost:8501\"\n"
          ]
        }
      ]
    },
    {
      "cell_type": "code",
      "source": [
        "import os\n",
        "\n",
        "# Run the Streamlit app\n",
        "os.system('streamlit run app.py &')\n"
      ],
      "metadata": {
        "colab": {
          "base_uri": "https://localhost:8080/"
        },
        "id": "V1vyrA-jey06",
        "outputId": "4f91835d-3470-4d7c-85d4-d03d881f45b5"
      },
      "execution_count": 4,
      "outputs": [
        {
          "output_type": "execute_result",
          "data": {
            "text/plain": [
              "0"
            ]
          },
          "metadata": {},
          "execution_count": 4
        }
      ]
    },
    {
      "cell_type": "code",
      "source": [
        "!pkill ngrok\n"
      ],
      "metadata": {
        "id": "UIBOj5beet1u"
      },
      "execution_count": 6,
      "outputs": []
    }
  ]
}